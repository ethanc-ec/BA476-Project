{
 "cells": [
  {
   "cell_type": "code",
   "execution_count": 1,
   "metadata": {},
   "outputs": [],
   "source": [
    "import pandas as pd"
   ]
  },
  {
   "cell_type": "code",
   "execution_count": 4,
   "metadata": {},
   "outputs": [
    {
     "data": {
      "application/vnd.microsoft.datawrangler.viewer.v0+json": {
       "columns": [
        {
         "name": "index",
         "rawType": "int64",
         "type": "integer"
        },
        {
         "name": "popularity",
         "rawType": "int64",
         "type": "integer"
        },
        {
         "name": "duration_ms",
         "rawType": "int64",
         "type": "integer"
        },
        {
         "name": "explicit",
         "rawType": "int64",
         "type": "integer"
        },
        {
         "name": "danceability",
         "rawType": "float64",
         "type": "float"
        },
        {
         "name": "energy",
         "rawType": "float64",
         "type": "float"
        },
        {
         "name": "key",
         "rawType": "int64",
         "type": "integer"
        },
        {
         "name": "loudness",
         "rawType": "float64",
         "type": "float"
        },
        {
         "name": "mode",
         "rawType": "int64",
         "type": "integer"
        },
        {
         "name": "speechiness",
         "rawType": "float64",
         "type": "float"
        },
        {
         "name": "acousticness",
         "rawType": "float64",
         "type": "float"
        },
        {
         "name": "instrumentalness",
         "rawType": "float64",
         "type": "float"
        },
        {
         "name": "liveness",
         "rawType": "float64",
         "type": "float"
        },
        {
         "name": "valence",
         "rawType": "float64",
         "type": "float"
        },
        {
         "name": "tempo",
         "rawType": "float64",
         "type": "float"
        },
        {
         "name": "time_signature",
         "rawType": "int64",
         "type": "integer"
        },
        {
         "name": "duration_s",
         "rawType": "float64",
         "type": "float"
        },
        {
         "name": "acoustic",
         "rawType": "int64",
         "type": "integer"
        },
        {
         "name": "afrobeat",
         "rawType": "int64",
         "type": "integer"
        },
        {
         "name": "alt-rock",
         "rawType": "int64",
         "type": "integer"
        },
        {
         "name": "alternative",
         "rawType": "int64",
         "type": "integer"
        },
        {
         "name": "ambient",
         "rawType": "int64",
         "type": "integer"
        },
        {
         "name": "anime",
         "rawType": "int64",
         "type": "integer"
        },
        {
         "name": "black-metal",
         "rawType": "int64",
         "type": "integer"
        },
        {
         "name": "bluegrass",
         "rawType": "int64",
         "type": "integer"
        },
        {
         "name": "blues",
         "rawType": "int64",
         "type": "integer"
        },
        {
         "name": "brazil",
         "rawType": "int64",
         "type": "integer"
        },
        {
         "name": "breakbeat",
         "rawType": "int64",
         "type": "integer"
        },
        {
         "name": "british",
         "rawType": "int64",
         "type": "integer"
        },
        {
         "name": "cantopop",
         "rawType": "int64",
         "type": "integer"
        },
        {
         "name": "chicago-house",
         "rawType": "int64",
         "type": "integer"
        },
        {
         "name": "children",
         "rawType": "int64",
         "type": "integer"
        },
        {
         "name": "chill",
         "rawType": "int64",
         "type": "integer"
        },
        {
         "name": "classical",
         "rawType": "int64",
         "type": "integer"
        },
        {
         "name": "club",
         "rawType": "int64",
         "type": "integer"
        },
        {
         "name": "comedy",
         "rawType": "int64",
         "type": "integer"
        },
        {
         "name": "country",
         "rawType": "int64",
         "type": "integer"
        },
        {
         "name": "dance",
         "rawType": "int64",
         "type": "integer"
        },
        {
         "name": "dancehall",
         "rawType": "int64",
         "type": "integer"
        },
        {
         "name": "death-metal",
         "rawType": "int64",
         "type": "integer"
        },
        {
         "name": "deep-house",
         "rawType": "int64",
         "type": "integer"
        },
        {
         "name": "detroit-techno",
         "rawType": "int64",
         "type": "integer"
        },
        {
         "name": "disco",
         "rawType": "int64",
         "type": "integer"
        },
        {
         "name": "disney",
         "rawType": "int64",
         "type": "integer"
        },
        {
         "name": "drum-and-bass",
         "rawType": "int64",
         "type": "integer"
        },
        {
         "name": "dub",
         "rawType": "int64",
         "type": "integer"
        },
        {
         "name": "dubstep",
         "rawType": "int64",
         "type": "integer"
        },
        {
         "name": "edm",
         "rawType": "int64",
         "type": "integer"
        },
        {
         "name": "electro",
         "rawType": "int64",
         "type": "integer"
        },
        {
         "name": "electronic",
         "rawType": "int64",
         "type": "integer"
        },
        {
         "name": "emo",
         "rawType": "int64",
         "type": "integer"
        },
        {
         "name": "folk",
         "rawType": "int64",
         "type": "integer"
        },
        {
         "name": "forro",
         "rawType": "int64",
         "type": "integer"
        },
        {
         "name": "french",
         "rawType": "int64",
         "type": "integer"
        },
        {
         "name": "funk",
         "rawType": "int64",
         "type": "integer"
        },
        {
         "name": "garage",
         "rawType": "int64",
         "type": "integer"
        },
        {
         "name": "german",
         "rawType": "int64",
         "type": "integer"
        },
        {
         "name": "gospel",
         "rawType": "int64",
         "type": "integer"
        },
        {
         "name": "goth",
         "rawType": "int64",
         "type": "integer"
        },
        {
         "name": "grindcore",
         "rawType": "int64",
         "type": "integer"
        },
        {
         "name": "groove",
         "rawType": "int64",
         "type": "integer"
        },
        {
         "name": "grunge",
         "rawType": "int64",
         "type": "integer"
        },
        {
         "name": "guitar",
         "rawType": "int64",
         "type": "integer"
        },
        {
         "name": "happy",
         "rawType": "int64",
         "type": "integer"
        },
        {
         "name": "hard-rock",
         "rawType": "int64",
         "type": "integer"
        },
        {
         "name": "hardcore",
         "rawType": "int64",
         "type": "integer"
        },
        {
         "name": "hardstyle",
         "rawType": "int64",
         "type": "integer"
        },
        {
         "name": "heavy-metal",
         "rawType": "int64",
         "type": "integer"
        },
        {
         "name": "hip-hop",
         "rawType": "int64",
         "type": "integer"
        },
        {
         "name": "honky-tonk",
         "rawType": "int64",
         "type": "integer"
        },
        {
         "name": "house",
         "rawType": "int64",
         "type": "integer"
        },
        {
         "name": "idm",
         "rawType": "int64",
         "type": "integer"
        },
        {
         "name": "indian",
         "rawType": "int64",
         "type": "integer"
        },
        {
         "name": "indie",
         "rawType": "int64",
         "type": "integer"
        },
        {
         "name": "indie-pop",
         "rawType": "int64",
         "type": "integer"
        },
        {
         "name": "industrial",
         "rawType": "int64",
         "type": "integer"
        },
        {
         "name": "iranian",
         "rawType": "int64",
         "type": "integer"
        },
        {
         "name": "j-dance",
         "rawType": "int64",
         "type": "integer"
        },
        {
         "name": "j-idol",
         "rawType": "int64",
         "type": "integer"
        },
        {
         "name": "j-pop",
         "rawType": "int64",
         "type": "integer"
        },
        {
         "name": "j-rock",
         "rawType": "int64",
         "type": "integer"
        },
        {
         "name": "jazz",
         "rawType": "int64",
         "type": "integer"
        },
        {
         "name": "k-pop",
         "rawType": "int64",
         "type": "integer"
        },
        {
         "name": "kids",
         "rawType": "int64",
         "type": "integer"
        },
        {
         "name": "latin",
         "rawType": "int64",
         "type": "integer"
        },
        {
         "name": "latino",
         "rawType": "int64",
         "type": "integer"
        },
        {
         "name": "malay",
         "rawType": "int64",
         "type": "integer"
        },
        {
         "name": "mandopop",
         "rawType": "int64",
         "type": "integer"
        },
        {
         "name": "metal",
         "rawType": "int64",
         "type": "integer"
        },
        {
         "name": "metalcore",
         "rawType": "int64",
         "type": "integer"
        },
        {
         "name": "minimal-techno",
         "rawType": "int64",
         "type": "integer"
        },
        {
         "name": "mpb",
         "rawType": "int64",
         "type": "integer"
        },
        {
         "name": "new-age",
         "rawType": "int64",
         "type": "integer"
        },
        {
         "name": "opera",
         "rawType": "int64",
         "type": "integer"
        },
        {
         "name": "pagode",
         "rawType": "int64",
         "type": "integer"
        },
        {
         "name": "party",
         "rawType": "int64",
         "type": "integer"
        },
        {
         "name": "piano",
         "rawType": "int64",
         "type": "integer"
        },
        {
         "name": "pop",
         "rawType": "int64",
         "type": "integer"
        },
        {
         "name": "pop-film",
         "rawType": "int64",
         "type": "integer"
        },
        {
         "name": "power-pop",
         "rawType": "int64",
         "type": "integer"
        },
        {
         "name": "progressive-house",
         "rawType": "int64",
         "type": "integer"
        },
        {
         "name": "psych-rock",
         "rawType": "int64",
         "type": "integer"
        },
        {
         "name": "punk",
         "rawType": "int64",
         "type": "integer"
        },
        {
         "name": "punk-rock",
         "rawType": "int64",
         "type": "integer"
        },
        {
         "name": "r-n-b",
         "rawType": "int64",
         "type": "integer"
        },
        {
         "name": "reggae",
         "rawType": "int64",
         "type": "integer"
        },
        {
         "name": "reggaeton",
         "rawType": "int64",
         "type": "integer"
        },
        {
         "name": "rock",
         "rawType": "int64",
         "type": "integer"
        },
        {
         "name": "rock-n-roll",
         "rawType": "int64",
         "type": "integer"
        },
        {
         "name": "rockabilly",
         "rawType": "int64",
         "type": "integer"
        },
        {
         "name": "romance",
         "rawType": "int64",
         "type": "integer"
        },
        {
         "name": "sad",
         "rawType": "int64",
         "type": "integer"
        },
        {
         "name": "salsa",
         "rawType": "int64",
         "type": "integer"
        },
        {
         "name": "samba",
         "rawType": "int64",
         "type": "integer"
        },
        {
         "name": "sertanejo",
         "rawType": "int64",
         "type": "integer"
        },
        {
         "name": "show-tunes",
         "rawType": "int64",
         "type": "integer"
        },
        {
         "name": "singer-songwriter",
         "rawType": "int64",
         "type": "integer"
        },
        {
         "name": "ska",
         "rawType": "int64",
         "type": "integer"
        },
        {
         "name": "sleep",
         "rawType": "int64",
         "type": "integer"
        },
        {
         "name": "songwriter",
         "rawType": "int64",
         "type": "integer"
        },
        {
         "name": "soul",
         "rawType": "int64",
         "type": "integer"
        },
        {
         "name": "spanish",
         "rawType": "int64",
         "type": "integer"
        },
        {
         "name": "study",
         "rawType": "int64",
         "type": "integer"
        },
        {
         "name": "swedish",
         "rawType": "int64",
         "type": "integer"
        },
        {
         "name": "synth-pop",
         "rawType": "int64",
         "type": "integer"
        },
        {
         "name": "tango",
         "rawType": "int64",
         "type": "integer"
        },
        {
         "name": "techno",
         "rawType": "int64",
         "type": "integer"
        },
        {
         "name": "trance",
         "rawType": "int64",
         "type": "integer"
        },
        {
         "name": "trip-hop",
         "rawType": "int64",
         "type": "integer"
        },
        {
         "name": "turkish",
         "rawType": "int64",
         "type": "integer"
        },
        {
         "name": "world-music",
         "rawType": "int64",
         "type": "integer"
        }
       ],
       "conversionMethod": "pd.DataFrame",
       "ref": "bdf8ba9c-782c-40ec-8548-fcb3f94c1703",
       "rows": [
        [
         "0",
         "73",
         "230666",
         "0",
         "0.676",
         "0.461",
         "1",
         "-6.746",
         "0",
         "0.143",
         "0.0322",
         "1.01e-06",
         "0.358",
         "0.715",
         "87.917",
         "4",
         "230.666",
         "1",
         "0",
         "0",
         "0",
         "0",
         "0",
         "0",
         "0",
         "0",
         "0",
         "0",
         "0",
         "0",
         "0",
         "0",
         "0",
         "0",
         "0",
         "0",
         "0",
         "0",
         "0",
         "0",
         "0",
         "0",
         "0",
         "0",
         "0",
         "0",
         "0",
         "0",
         "0",
         "0",
         "0",
         "0",
         "0",
         "0",
         "0",
         "0",
         "0",
         "0",
         "0",
         "0",
         "0",
         "0",
         "0",
         "0",
         "0",
         "0",
         "0",
         "0",
         "0",
         "0",
         "0",
         "0",
         "0",
         "0",
         "0",
         "0",
         "0",
         "0",
         "0",
         "1",
         "0",
         "0",
         "0",
         "0",
         "0",
         "0",
         "0",
         "0",
         "0",
         "0",
         "0",
         "0",
         "0",
         "0",
         "0",
         "0",
         "0",
         "0",
         "0",
         "0",
         "0",
         "0",
         "0",
         "0",
         "0",
         "0",
         "0",
         "0",
         "0",
         "0",
         "0",
         "0",
         "0",
         "0",
         "0",
         "0",
         "1",
         "0",
         "0",
         "1",
         "0",
         "0",
         "0",
         "0",
         "0",
         "0",
         "0",
         "0",
         "0",
         "0",
         "0"
        ],
        [
         "1",
         "55",
         "149610",
         "0",
         "0.42",
         "0.166",
         "1",
         "-17.235",
         "1",
         "0.0763",
         "0.924",
         "5.56e-06",
         "0.101",
         "0.267",
         "77.489",
         "4",
         "149.61",
         "1",
         "0",
         "0",
         "0",
         "0",
         "0",
         "0",
         "0",
         "0",
         "0",
         "0",
         "0",
         "0",
         "0",
         "0",
         "1",
         "0",
         "0",
         "0",
         "0",
         "0",
         "0",
         "0",
         "0",
         "0",
         "0",
         "0",
         "0",
         "0",
         "0",
         "0",
         "0",
         "0",
         "0",
         "0",
         "0",
         "0",
         "0",
         "0",
         "0",
         "0",
         "0",
         "0",
         "0",
         "0",
         "0",
         "0",
         "0",
         "0",
         "0",
         "0",
         "0",
         "0",
         "0",
         "0",
         "0",
         "0",
         "0",
         "0",
         "0",
         "0",
         "0",
         "0",
         "0",
         "0",
         "0",
         "0",
         "0",
         "0",
         "0",
         "0",
         "0",
         "0",
         "0",
         "0",
         "0",
         "0",
         "0",
         "0",
         "0",
         "0",
         "0",
         "0",
         "0",
         "0",
         "0",
         "0",
         "0",
         "0",
         "0",
         "0",
         "0",
         "0",
         "0",
         "0",
         "0",
         "0",
         "0",
         "0",
         "0",
         "0",
         "0",
         "0",
         "0",
         "0",
         "0",
         "0",
         "0",
         "0",
         "0",
         "0",
         "0",
         "0",
         "0"
        ],
        [
         "2",
         "57",
         "210826",
         "0",
         "0.438",
         "0.359",
         "0",
         "-9.734",
         "1",
         "0.0557",
         "0.21",
         "0.0",
         "0.117",
         "0.12",
         "76.332",
         "4",
         "210.826",
         "1",
         "0",
         "0",
         "0",
         "0",
         "0",
         "0",
         "0",
         "0",
         "0",
         "0",
         "0",
         "0",
         "0",
         "0",
         "0",
         "0",
         "0",
         "0",
         "0",
         "0",
         "0",
         "0",
         "0",
         "0",
         "0",
         "0",
         "0",
         "0",
         "0",
         "0",
         "0",
         "0",
         "0",
         "0",
         "0",
         "0",
         "0",
         "0",
         "0",
         "0",
         "0",
         "0",
         "0",
         "0",
         "0",
         "0",
         "0",
         "0",
         "0",
         "0",
         "0",
         "0",
         "0",
         "0",
         "0",
         "0",
         "0",
         "0",
         "0",
         "0",
         "0",
         "0",
         "0",
         "0",
         "0",
         "0",
         "0",
         "0",
         "0",
         "0",
         "0",
         "0",
         "0",
         "0",
         "0",
         "0",
         "0",
         "0",
         "0",
         "0",
         "0",
         "0",
         "0",
         "0",
         "0",
         "0",
         "0",
         "0",
         "0",
         "0",
         "0",
         "0",
         "0",
         "0",
         "0",
         "0",
         "0",
         "0",
         "0",
         "0",
         "0",
         "0",
         "0",
         "0",
         "0",
         "0",
         "0",
         "0",
         "0",
         "0",
         "0",
         "0",
         "0"
        ],
        [
         "3",
         "71",
         "201933",
         "0",
         "0.266",
         "0.0596",
         "0",
         "-18.515",
         "1",
         "0.0363",
         "0.905",
         "7.07e-05",
         "0.132",
         "0.143",
         "181.74",
         "3",
         "201.933",
         "1",
         "0",
         "0",
         "0",
         "0",
         "0",
         "0",
         "0",
         "0",
         "0",
         "0",
         "0",
         "0",
         "0",
         "0",
         "0",
         "0",
         "0",
         "0",
         "0",
         "0",
         "0",
         "0",
         "0",
         "0",
         "0",
         "0",
         "0",
         "0",
         "0",
         "0",
         "0",
         "0",
         "0",
         "0",
         "0",
         "0",
         "0",
         "0",
         "0",
         "0",
         "0",
         "0",
         "0",
         "0",
         "0",
         "0",
         "0",
         "0",
         "0",
         "0",
         "0",
         "0",
         "0",
         "0",
         "0",
         "0",
         "0",
         "0",
         "0",
         "0",
         "0",
         "0",
         "0",
         "0",
         "0",
         "0",
         "0",
         "0",
         "0",
         "0",
         "0",
         "0",
         "0",
         "0",
         "0",
         "0",
         "0",
         "0",
         "0",
         "0",
         "0",
         "0",
         "0",
         "0",
         "0",
         "0",
         "0",
         "0",
         "0",
         "0",
         "0",
         "0",
         "0",
         "0",
         "0",
         "0",
         "0",
         "0",
         "0",
         "0",
         "0",
         "0",
         "0",
         "0",
         "0",
         "0",
         "0",
         "0",
         "0",
         "0",
         "0",
         "0",
         "0"
        ],
        [
         "4",
         "82",
         "198853",
         "0",
         "0.618",
         "0.443",
         "2",
         "-9.681",
         "1",
         "0.0526",
         "0.469",
         "0.0",
         "0.0829",
         "0.167",
         "119.949",
         "4",
         "198.853",
         "1",
         "0",
         "0",
         "0",
         "0",
         "0",
         "0",
         "0",
         "0",
         "0",
         "0",
         "0",
         "0",
         "0",
         "0",
         "0",
         "0",
         "0",
         "0",
         "0",
         "0",
         "0",
         "0",
         "0",
         "0",
         "0",
         "0",
         "0",
         "0",
         "0",
         "0",
         "0",
         "0",
         "0",
         "0",
         "0",
         "0",
         "0",
         "0",
         "0",
         "0",
         "0",
         "0",
         "0",
         "0",
         "0",
         "0",
         "0",
         "0",
         "0",
         "0",
         "0",
         "0",
         "0",
         "0",
         "0",
         "0",
         "0",
         "0",
         "0",
         "0",
         "0",
         "0",
         "0",
         "0",
         "0",
         "0",
         "0",
         "0",
         "0",
         "0",
         "0",
         "0",
         "0",
         "0",
         "0",
         "0",
         "0",
         "0",
         "0",
         "0",
         "0",
         "0",
         "0",
         "0",
         "0",
         "0",
         "0",
         "0",
         "0",
         "0",
         "0",
         "0",
         "0",
         "0",
         "0",
         "0",
         "0",
         "0",
         "0",
         "0",
         "0",
         "0",
         "0",
         "0",
         "0",
         "0",
         "0",
         "0",
         "0",
         "0",
         "0",
         "0",
         "0"
        ]
       ],
       "shape": {
        "columns": 130,
        "rows": 5
       }
      },
      "text/html": [
       "<div>\n",
       "<style scoped>\n",
       "    .dataframe tbody tr th:only-of-type {\n",
       "        vertical-align: middle;\n",
       "    }\n",
       "\n",
       "    .dataframe tbody tr th {\n",
       "        vertical-align: top;\n",
       "    }\n",
       "\n",
       "    .dataframe thead th {\n",
       "        text-align: right;\n",
       "    }\n",
       "</style>\n",
       "<table border=\"1\" class=\"dataframe\">\n",
       "  <thead>\n",
       "    <tr style=\"text-align: right;\">\n",
       "      <th></th>\n",
       "      <th>popularity</th>\n",
       "      <th>duration_ms</th>\n",
       "      <th>explicit</th>\n",
       "      <th>danceability</th>\n",
       "      <th>energy</th>\n",
       "      <th>key</th>\n",
       "      <th>loudness</th>\n",
       "      <th>mode</th>\n",
       "      <th>speechiness</th>\n",
       "      <th>acousticness</th>\n",
       "      <th>...</th>\n",
       "      <th>spanish</th>\n",
       "      <th>study</th>\n",
       "      <th>swedish</th>\n",
       "      <th>synth-pop</th>\n",
       "      <th>tango</th>\n",
       "      <th>techno</th>\n",
       "      <th>trance</th>\n",
       "      <th>trip-hop</th>\n",
       "      <th>turkish</th>\n",
       "      <th>world-music</th>\n",
       "    </tr>\n",
       "  </thead>\n",
       "  <tbody>\n",
       "    <tr>\n",
       "      <th>0</th>\n",
       "      <td>73</td>\n",
       "      <td>230666</td>\n",
       "      <td>0</td>\n",
       "      <td>0.676</td>\n",
       "      <td>0.4610</td>\n",
       "      <td>1</td>\n",
       "      <td>-6.746</td>\n",
       "      <td>0</td>\n",
       "      <td>0.1430</td>\n",
       "      <td>0.0322</td>\n",
       "      <td>...</td>\n",
       "      <td>0</td>\n",
       "      <td>0</td>\n",
       "      <td>0</td>\n",
       "      <td>0</td>\n",
       "      <td>0</td>\n",
       "      <td>0</td>\n",
       "      <td>0</td>\n",
       "      <td>0</td>\n",
       "      <td>0</td>\n",
       "      <td>0</td>\n",
       "    </tr>\n",
       "    <tr>\n",
       "      <th>1</th>\n",
       "      <td>55</td>\n",
       "      <td>149610</td>\n",
       "      <td>0</td>\n",
       "      <td>0.420</td>\n",
       "      <td>0.1660</td>\n",
       "      <td>1</td>\n",
       "      <td>-17.235</td>\n",
       "      <td>1</td>\n",
       "      <td>0.0763</td>\n",
       "      <td>0.9240</td>\n",
       "      <td>...</td>\n",
       "      <td>0</td>\n",
       "      <td>0</td>\n",
       "      <td>0</td>\n",
       "      <td>0</td>\n",
       "      <td>0</td>\n",
       "      <td>0</td>\n",
       "      <td>0</td>\n",
       "      <td>0</td>\n",
       "      <td>0</td>\n",
       "      <td>0</td>\n",
       "    </tr>\n",
       "    <tr>\n",
       "      <th>2</th>\n",
       "      <td>57</td>\n",
       "      <td>210826</td>\n",
       "      <td>0</td>\n",
       "      <td>0.438</td>\n",
       "      <td>0.3590</td>\n",
       "      <td>0</td>\n",
       "      <td>-9.734</td>\n",
       "      <td>1</td>\n",
       "      <td>0.0557</td>\n",
       "      <td>0.2100</td>\n",
       "      <td>...</td>\n",
       "      <td>0</td>\n",
       "      <td>0</td>\n",
       "      <td>0</td>\n",
       "      <td>0</td>\n",
       "      <td>0</td>\n",
       "      <td>0</td>\n",
       "      <td>0</td>\n",
       "      <td>0</td>\n",
       "      <td>0</td>\n",
       "      <td>0</td>\n",
       "    </tr>\n",
       "    <tr>\n",
       "      <th>3</th>\n",
       "      <td>71</td>\n",
       "      <td>201933</td>\n",
       "      <td>0</td>\n",
       "      <td>0.266</td>\n",
       "      <td>0.0596</td>\n",
       "      <td>0</td>\n",
       "      <td>-18.515</td>\n",
       "      <td>1</td>\n",
       "      <td>0.0363</td>\n",
       "      <td>0.9050</td>\n",
       "      <td>...</td>\n",
       "      <td>0</td>\n",
       "      <td>0</td>\n",
       "      <td>0</td>\n",
       "      <td>0</td>\n",
       "      <td>0</td>\n",
       "      <td>0</td>\n",
       "      <td>0</td>\n",
       "      <td>0</td>\n",
       "      <td>0</td>\n",
       "      <td>0</td>\n",
       "    </tr>\n",
       "    <tr>\n",
       "      <th>4</th>\n",
       "      <td>82</td>\n",
       "      <td>198853</td>\n",
       "      <td>0</td>\n",
       "      <td>0.618</td>\n",
       "      <td>0.4430</td>\n",
       "      <td>2</td>\n",
       "      <td>-9.681</td>\n",
       "      <td>1</td>\n",
       "      <td>0.0526</td>\n",
       "      <td>0.4690</td>\n",
       "      <td>...</td>\n",
       "      <td>0</td>\n",
       "      <td>0</td>\n",
       "      <td>0</td>\n",
       "      <td>0</td>\n",
       "      <td>0</td>\n",
       "      <td>0</td>\n",
       "      <td>0</td>\n",
       "      <td>0</td>\n",
       "      <td>0</td>\n",
       "      <td>0</td>\n",
       "    </tr>\n",
       "  </tbody>\n",
       "</table>\n",
       "<p>5 rows × 130 columns</p>\n",
       "</div>"
      ],
      "text/plain": [
       "   popularity  duration_ms  explicit  danceability  energy  key  loudness  \\\n",
       "0          73       230666         0         0.676  0.4610    1    -6.746   \n",
       "1          55       149610         0         0.420  0.1660    1   -17.235   \n",
       "2          57       210826         0         0.438  0.3590    0    -9.734   \n",
       "3          71       201933         0         0.266  0.0596    0   -18.515   \n",
       "4          82       198853         0         0.618  0.4430    2    -9.681   \n",
       "\n",
       "   mode  speechiness  acousticness  ...  spanish  study  swedish  synth-pop  \\\n",
       "0     0       0.1430        0.0322  ...        0      0        0          0   \n",
       "1     1       0.0763        0.9240  ...        0      0        0          0   \n",
       "2     1       0.0557        0.2100  ...        0      0        0          0   \n",
       "3     1       0.0363        0.9050  ...        0      0        0          0   \n",
       "4     1       0.0526        0.4690  ...        0      0        0          0   \n",
       "\n",
       "   tango  techno  trance  trip-hop  turkish  world-music  \n",
       "0      0       0       0         0        0            0  \n",
       "1      0       0       0         0        0            0  \n",
       "2      0       0       0         0        0            0  \n",
       "3      0       0       0         0        0            0  \n",
       "4      0       0       0         0        0            0  \n",
       "\n",
       "[5 rows x 130 columns]"
      ]
     },
     "metadata": {},
     "output_type": "display_data"
    },
    {
     "data": {
      "text/plain": [
       "(89741, 130)"
      ]
     },
     "execution_count": 4,
     "metadata": {},
     "output_type": "execute_result"
    }
   ],
   "source": [
    "df = pd.read_csv('data/spotify_tracks_processed.csv')\n",
    "display(df.head())\n",
    "df.shape"
   ]
  },
  {
   "cell_type": "code",
   "execution_count": null,
   "metadata": {},
   "outputs": [
    {
     "name": "stdout",
     "output_type": "stream",
     "text": [
      "Mean Squared Error: 402.67\n",
      "R2 Score: 0.05\n",
      "danceability: 0.080\n",
      "energy: 0.052\n",
      "loudness: 0.039\n",
      "speechiness: 0.135\n",
      "acousticness: 0.317\n",
      "instrumentalness: 0.274\n",
      "liveness: 0.014\n",
      "valence: 0.088\n",
      "tempo: 0.000\n"
     ]
    }
   ],
   "source": [
    "from sklearn.metrics import mean_squared_error, r2_score\n",
    "from sklearn.model_selection import train_test_split\n",
    "from sklearn.tree import DecisionTreeRegressor\n",
    "\n",
    "# Select features for prediction\n",
    "features = ['danceability', 'energy', 'loudness', 'speechiness', 'acousticness', \n",
    "           'instrumentalness', 'liveness', 'valence', 'tempo']\n",
    "\n",
    "X = df[features]\n",
    "y = df['popularity']\n",
    "\n",
    "# Split the data\n",
    "X_train, X_test, y_train, y_test = train_test_split(X, y, test_size=0.25, random_state=476)\n",
    "\n",
    "# Create and train the model\n",
    "tree = DecisionTreeRegressor(max_depth=5, random_state=476)\n",
    "tree.fit(X_train, y_train)\n",
    "\n",
    "# Make predictions and evaluate\n",
    "y_pred = tree.predict(X_test)\n",
    "mse = mean_squared_error(y_test, y_pred)\n",
    "r2 = r2_score(y_test, y_pred)\n",
    "\n",
    "print(f'Mean Squared Error: {mse:.2f}')\n",
    "print(f'R2 Score: {r2:.2f}')\n",
    "\n",
    "# Print feature importance\n",
    "for feature, importance in zip(features, tree.feature_importances, strict=True):\n",
    "    print(f'{feature}: {importance:.3f}')"
   ]
  },
  {
   "cell_type": "code",
   "execution_count": null,
   "metadata": {},
   "outputs": [],
   "source": []
  }
 ],
 "metadata": {
  "kernelspec": {
   "display_name": ".venv",
   "language": "python",
   "name": "python3"
  },
  "language_info": {
   "codemirror_mode": {
    "name": "ipython",
    "version": 3
   },
   "file_extension": ".py",
   "mimetype": "text/x-python",
   "name": "python",
   "nbconvert_exporter": "python",
   "pygments_lexer": "ipython3",
   "version": "3.12.9"
  }
 },
 "nbformat": 4,
 "nbformat_minor": 2
}
